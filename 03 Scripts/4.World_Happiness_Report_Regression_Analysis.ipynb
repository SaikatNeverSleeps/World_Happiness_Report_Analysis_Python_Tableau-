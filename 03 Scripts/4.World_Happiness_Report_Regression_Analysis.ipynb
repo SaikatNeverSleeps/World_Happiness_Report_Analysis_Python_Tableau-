{
 "cells": [
  {
   "cell_type": "markdown",
   "id": "7398be91",
   "metadata": {},
   "source": [
    "# Importing Libraries"
   ]
  },
  {
   "cell_type": "code",
   "execution_count": 1,
   "id": "91c92fa3",
   "metadata": {},
   "outputs": [],
   "source": [
    "# Import Libraries\n",
    "import pandas as pd\n",
    "import numpy as np\n",
    "import seaborn as sns\n",
    "import matplotlib\n",
    "import matplotlib.pyplot as plt\n",
    "import os\n",
    "import sklearn\n",
    "from sklearn.model_selection import train_test_split \n",
    "from sklearn.linear_model import LinearRegression\n",
    "from sklearn.metrics import mean_squared_error, r2_score"
   ]
  },
  {
   "cell_type": "markdown",
   "id": "5ce7b73b",
   "metadata": {},
   "source": [
    "# 1.Importing Dataframe"
   ]
  },
  {
   "cell_type": "code",
   "execution_count": 2,
   "id": "fdffa686",
   "metadata": {},
   "outputs": [],
   "source": [
    "# Setting Variables\n",
    "path = r'C:\\Users\\Saikat Halder\\Documents\\CareerFoundry\\Data Immersion\\Achievement 6\\World Happiness Report Analysis 03202024'\n",
    "\n",
    "# Importing Merged and Cleaned Dataframe\n",
    "df_merged = pd.read_pickle(os.path.join(path, '02 Data', 'Prepared Data','WHS_merged_clean_2.pkl'))"
   ]
  },
  {
   "cell_type": "markdown",
   "id": "d6244e77",
   "metadata": {},
   "source": [
    "## Verifying Dataframes"
   ]
  },
  {
   "cell_type": "code",
   "execution_count": 3,
   "id": "603bc8ab",
   "metadata": {},
   "outputs": [
    {
     "data": {
      "text/html": [
       "<div>\n",
       "<style scoped>\n",
       "    .dataframe tbody tr th:only-of-type {\n",
       "        vertical-align: middle;\n",
       "    }\n",
       "\n",
       "    .dataframe tbody tr th {\n",
       "        vertical-align: top;\n",
       "    }\n",
       "\n",
       "    .dataframe thead th {\n",
       "        text-align: right;\n",
       "    }\n",
       "</style>\n",
       "<table border=\"1\" class=\"dataframe\">\n",
       "  <thead>\n",
       "    <tr style=\"text-align: right;\">\n",
       "      <th></th>\n",
       "      <th>country</th>\n",
       "      <th>region</th>\n",
       "      <th>happiness_score</th>\n",
       "      <th>gdp_per_capita</th>\n",
       "      <th>social_support</th>\n",
       "      <th>healthy_life_expectancy</th>\n",
       "      <th>freedom_to_make_life_choices</th>\n",
       "      <th>generosity</th>\n",
       "      <th>perceptions_of_corruption</th>\n",
       "      <th>year</th>\n",
       "    </tr>\n",
       "  </thead>\n",
       "  <tbody>\n",
       "    <tr>\n",
       "      <th>0</th>\n",
       "      <td>Switzerland</td>\n",
       "      <td>Western Europe</td>\n",
       "      <td>7.587</td>\n",
       "      <td>1.39651</td>\n",
       "      <td>1.34951</td>\n",
       "      <td>0.94143</td>\n",
       "      <td>0.66557</td>\n",
       "      <td>0.29678</td>\n",
       "      <td>0.41978</td>\n",
       "      <td>2015</td>\n",
       "    </tr>\n",
       "    <tr>\n",
       "      <th>1</th>\n",
       "      <td>Iceland</td>\n",
       "      <td>Western Europe</td>\n",
       "      <td>7.561</td>\n",
       "      <td>1.30232</td>\n",
       "      <td>1.40223</td>\n",
       "      <td>0.94784</td>\n",
       "      <td>0.62877</td>\n",
       "      <td>0.43630</td>\n",
       "      <td>0.14145</td>\n",
       "      <td>2015</td>\n",
       "    </tr>\n",
       "    <tr>\n",
       "      <th>2</th>\n",
       "      <td>Denmark</td>\n",
       "      <td>Western Europe</td>\n",
       "      <td>7.527</td>\n",
       "      <td>1.32548</td>\n",
       "      <td>1.36058</td>\n",
       "      <td>0.87464</td>\n",
       "      <td>0.64938</td>\n",
       "      <td>0.34139</td>\n",
       "      <td>0.48357</td>\n",
       "      <td>2015</td>\n",
       "    </tr>\n",
       "    <tr>\n",
       "      <th>3</th>\n",
       "      <td>Norway</td>\n",
       "      <td>Western Europe</td>\n",
       "      <td>7.522</td>\n",
       "      <td>1.45900</td>\n",
       "      <td>1.33095</td>\n",
       "      <td>0.88521</td>\n",
       "      <td>0.66973</td>\n",
       "      <td>0.34699</td>\n",
       "      <td>0.36503</td>\n",
       "      <td>2015</td>\n",
       "    </tr>\n",
       "    <tr>\n",
       "      <th>4</th>\n",
       "      <td>Canada</td>\n",
       "      <td>North America and ANZ</td>\n",
       "      <td>7.427</td>\n",
       "      <td>1.32629</td>\n",
       "      <td>1.32261</td>\n",
       "      <td>0.90563</td>\n",
       "      <td>0.63297</td>\n",
       "      <td>0.45811</td>\n",
       "      <td>0.32957</td>\n",
       "      <td>2015</td>\n",
       "    </tr>\n",
       "  </tbody>\n",
       "</table>\n",
       "</div>"
      ],
      "text/plain": [
       "       country                 region  happiness_score  gdp_per_capita  \\\n",
       "0  Switzerland         Western Europe            7.587         1.39651   \n",
       "1      Iceland         Western Europe            7.561         1.30232   \n",
       "2      Denmark         Western Europe            7.527         1.32548   \n",
       "3       Norway         Western Europe            7.522         1.45900   \n",
       "4       Canada  North America and ANZ            7.427         1.32629   \n",
       "\n",
       "   social_support  healthy_life_expectancy  freedom_to_make_life_choices  \\\n",
       "0         1.34951                  0.94143                       0.66557   \n",
       "1         1.40223                  0.94784                       0.62877   \n",
       "2         1.36058                  0.87464                       0.64938   \n",
       "3         1.33095                  0.88521                       0.66973   \n",
       "4         1.32261                  0.90563                       0.63297   \n",
       "\n",
       "   generosity  perceptions_of_corruption  year  \n",
       "0     0.29678                    0.41978  2015  \n",
       "1     0.43630                    0.14145  2015  \n",
       "2     0.34139                    0.48357  2015  \n",
       "3     0.34699                    0.36503  2015  \n",
       "4     0.45811                    0.32957  2015  "
      ]
     },
     "execution_count": 3,
     "metadata": {},
     "output_type": "execute_result"
    }
   ],
   "source": [
    "df_merged.head()"
   ]
  },
  {
   "cell_type": "code",
   "execution_count": 4,
   "id": "02f033b8",
   "metadata": {
    "scrolled": true
   },
   "outputs": [
    {
     "data": {
      "text/plain": [
       "(1367, 10)"
      ]
     },
     "execution_count": 4,
     "metadata": {},
     "output_type": "execute_result"
    }
   ],
   "source": [
    "df_merged.shape"
   ]
  },
  {
   "cell_type": "code",
   "execution_count": 5,
   "id": "17d5c305",
   "metadata": {},
   "outputs": [],
   "source": [
    "%matplotlib inline"
   ]
  },
  {
   "cell_type": "markdown",
   "id": "5324aef4",
   "metadata": {},
   "source": [
    "# 2. Data Cleaning"
   ]
  },
  {
   "cell_type": "markdown",
   "id": "9b1fbb13",
   "metadata": {},
   "source": [
    "## Missing Values "
   ]
  },
  {
   "cell_type": "code",
   "execution_count": 7,
   "id": "99acbf10",
   "metadata": {},
   "outputs": [
    {
     "data": {
      "text/plain": [
       "country                         0\n",
       "region                          0\n",
       "happiness_score                 0\n",
       "gdp_per_capita                  0\n",
       "social_support                  0\n",
       "healthy_life_expectancy         0\n",
       "freedom_to_make_life_choices    0\n",
       "generosity                      0\n",
       "perceptions_of_corruption       0\n",
       "year                            0\n",
       "dtype: int64"
      ]
     },
     "execution_count": 7,
     "metadata": {},
     "output_type": "execute_result"
    }
   ],
   "source": [
    "# Check for missing values\n",
    "\n",
    "df_merged.isnull().sum()\n",
    "\n",
    "# No missing values to handle"
   ]
  },
  {
   "cell_type": "markdown",
   "id": "73e50e3e",
   "metadata": {},
   "source": [
    "## Duplicate Check "
   ]
  },
  {
   "cell_type": "code",
   "execution_count": 11,
   "id": "6fb056c4",
   "metadata": {},
   "outputs": [
    {
     "data": {
      "text/plain": [
       "(1367,)"
      ]
     },
     "execution_count": 11,
     "metadata": {},
     "output_type": "execute_result"
    }
   ],
   "source": [
    "dups = df_merged.duplicated()\n",
    "dups.shape\n",
    "# No Dups"
   ]
  },
  {
   "cell_type": "markdown",
   "id": "77c1d598",
   "metadata": {},
   "source": [
    "## Extreme Value Check "
   ]
  },
  {
   "cell_type": "markdown",
   "id": "038e998d",
   "metadata": {},
   "source": [
    "###  happiness_score"
   ]
  },
  {
   "cell_type": "code",
   "execution_count": 12,
   "id": "f3c49966",
   "metadata": {},
   "outputs": [
    {
     "name": "stderr",
     "output_type": "stream",
     "text": [
      "C:\\Users\\Saikat Halder\\AppData\\Local\\Temp\\ipykernel_21512\\2455075860.py:1: UserWarning: \n",
      "\n",
      "`distplot` is a deprecated function and will be removed in seaborn v0.14.0.\n",
      "\n",
      "Please adapt your code to use either `displot` (a figure-level function with\n",
      "similar flexibility) or `histplot` (an axes-level function for histograms).\n",
      "\n",
      "For a guide to updating your code to use the new functions, please see\n",
      "https://gist.github.com/mwaskom/de44147ed2974457ad6372750bbe5751\n",
      "\n",
      "  sns.distplot(df_merged['happiness_score'], bins=25) # Shows extreme values\n",
      "C:\\Anaconda\\Lib\\site-packages\\seaborn\\_oldcore.py:1119: FutureWarning: use_inf_as_na option is deprecated and will be removed in a future version. Convert inf values to NaN before operating instead.\n",
      "  with pd.option_context('mode.use_inf_as_na', True):\n"
     ]
    },
    {
     "data": {
      "text/plain": [
       "<Axes: xlabel='happiness_score', ylabel='Density'>"
      ]
     },
     "execution_count": 12,
     "metadata": {},
     "output_type": "execute_result"
    },
    {
     "data": {
      "image/png": "[encoded data removed]",
      "text/plain": [
       "<Figure size 640x480 with 1 Axes>"
      ]
     },
     "metadata": {},
     "output_type": "display_data"
    }
   ],
   "source": [
    "sns.distplot(df_merged['happiness_score'], bins=25) # Shows extreme values"
   ]
  },
  {
   "cell_type": "markdown",
   "id": "10d081d7",
   "metadata": {},
   "source": [
    "#### There are no outliers"
   ]
  },
  {
   "cell_type": "markdown",
   "id": "c8dca979",
   "metadata": {},
   "source": [
    "#### Check the mean, median, max"
   ]
  },
  {
   "cell_type": "code",
   "execution_count": 22,
   "id": "6f87c118",
   "metadata": {},
   "outputs": [
    {
     "name": "stdout",
     "output_type": "stream",
     "text": [
      "happiness_score_mean = 5.441086100337235 \n",
      "happiness_score_max = 7.842 \n",
      "happiness_score_median = 5.44\n"
     ]
    }
   ],
   "source": [
    "happiness_score_mean = df_merged['happiness_score'].mean()\n",
    "happiness_score_max = df_merged['happiness_score'].max()\n",
    "happiness_score_median = df_merged['happiness_score'].median()\n",
    "\n",
    "print('happiness_score_mean =', happiness_score_mean,'\\n'\n",
    "      'happiness_score_max =', happiness_score_max,'\\n'\n",
    "      'happiness_score_median =', happiness_score_median)"
   ]
  },
  {
   "cell_type": "markdown",
   "id": "5a7e2d86",
   "metadata": {},
   "source": [
    "### gdp_per_capita"
   ]
  },
  {
   "cell_type": "code",
   "execution_count": 23,
   "id": "837945f4",
   "metadata": {},
   "outputs": [
    {
     "name": "stderr",
     "output_type": "stream",
     "text": [
      "C:\\Users\\Saikat Halder\\AppData\\Local\\Temp\\ipykernel_21512\\2809109992.py:1: UserWarning: \n",
      "\n",
      "`distplot` is a deprecated function and will be removed in seaborn v0.14.0.\n",
      "\n",
      "Please adapt your code to use either `displot` (a figure-level function with\n",
      "similar flexibility) or `histplot` (an axes-level function for histograms).\n",
      "\n",
      "For a guide to updating your code to use the new functions, please see\n",
      "https://gist.github.com/mwaskom/de44147ed2974457ad6372750bbe5751\n",
      "\n",
      "  sns.distplot(df_merged['gdp_per_capita'], bins=25) # Shows extreme values\n",
      "C:\\Anaconda\\Lib\\site-packages\\seaborn\\_oldcore.py:1119: FutureWarning: use_inf_as_na option is deprecated and will be removed in a future version. Convert inf values to NaN before operating instead.\n",
      "  with pd.option_context('mode.use_inf_as_na', True):\n"
     ]
    },
    {
     "data": {
      "text/plain": [
       "<Axes: xlabel='gdp_per_capita', ylabel='Density'>"
      ]
     },
     "execution_count": 23,
     "metadata": {},
     "output_type": "execute_result"
    },
    {
     "data": {
      "image/png": "[encoded data removed]",
      "text/plain": [
       "<Figure size 640x480 with 1 Axes>"
      ]
     },
     "metadata": {},
     "output_type": "display_data"
    }
   ],
   "source": [
    "sns.distplot(df_merged['gdp_per_capita'], bins=25) # Shows extreme values"
   ]
  },
  {
   "cell_type": "markdown",
   "id": "5ed51487",
   "metadata": {},
   "source": [
    "#### Check the mean, median, max"
   ]
  },
  {
   "cell_type": "code",
   "execution_count": 24,
   "id": "56913db8",
   "metadata": {},
   "outputs": [
    {
     "name": "stdout",
     "output_type": "stream",
     "text": [
      "gdp_per_capita_mean = 1.019422176543526 \n",
      "gdp_per_capita_max = 2.209 \n",
      "gdp_per_capita_median = 1.043\n"
     ]
    }
   ],
   "source": [
    "gdp_per_capita_mean = df_merged['gdp_per_capita'].mean()\n",
    "gdp_per_capita_max = df_merged['gdp_per_capita'].max()\n",
    "gdp_per_capita_median = df_merged['gdp_per_capita'].median()\n",
    "\n",
    "print('gdp_per_capita_mean =', gdp_per_capita_mean,'\\n'\n",
    "      'gdp_per_capita_max =', gdp_per_capita_max,'\\n'\n",
    "      'gdp_per_capita_median =', gdp_per_capita_median)"
   ]
  },
  {
   "cell_type": "markdown",
   "id": "538a2d1d",
   "metadata": {},
   "source": [
    "# 3. Data Prep For Regression Analysis "
   ]
  },
  {
   "cell_type": "code",
   "execution_count": 25,
   "id": "142d0f25",
   "metadata": {
    "scrolled": true
   },
   "outputs": [
    {
     "data": {
      "image/png": "[encoded data removed]",
      "text/plain": [
       "<Figure size 640x480 with 1 Axes>"
      ]
     },
     "metadata": {},
     "output_type": "display_data"
    }
   ],
   "source": [
    "# Create a scatterplot using matplotlib for another look at how the chosen variables plot against each other.\n",
    "\n",
    "df_merged.plot(x = 'gdp_per_capita', y='happiness_score',style='o') # The style option creates a scatterplot; without it, we only have lines.\n",
    "plt.title('GDP vs Happiness Score')  \n",
    "plt.xlabel('GDP')  \n",
    "plt.ylabel('Happiness Score')  \n",
    "plt.show()"
   ]
  },
  {
   "cell_type": "markdown",
   "id": "e1a55a14",
   "metadata": {},
   "source": [
    "### Hypothesis: If a country has higer GDP per Capita, it will have a higher Happiness Score "
   ]
  },
  {
   "cell_type": "code",
   "execution_count": 27,
   "id": "0a0b9dfa",
   "metadata": {},
   "outputs": [],
   "source": [
    "# Reshape the variables into NumPy arrays and put them into separate objects.\n",
    "\n",
    "X = df_merged['gdp_per_capita'].values.reshape(-1,1)\n",
    "y = df_merged['happiness_score'].values.reshape(-1,1)"
   ]
  },
  {
   "cell_type": "code",
   "execution_count": 28,
   "id": "02092e3f",
   "metadata": {},
   "outputs": [
    {
     "data": {
      "text/plain": [
       "array([[1.39651],\n",
       "       [1.30232],\n",
       "       [1.32548],\n",
       "       ...,\n",
       "       [0.67   ],\n",
       "       [1.417  ],\n",
       "       [0.645  ]])"
      ]
     },
     "execution_count": 28,
     "metadata": {},
     "output_type": "execute_result"
    }
   ],
   "source": [
    "X"
   ]
  },
  {
   "cell_type": "code",
   "execution_count": 29,
   "id": "b8194790",
   "metadata": {},
   "outputs": [
    {
     "data": {
      "text/plain": [
       "array([[7.587],\n",
       "       [7.561],\n",
       "       [7.527],\n",
       "       ...,\n",
       "       [3.138],\n",
       "       [2.392],\n",
       "       [1.859]])"
      ]
     },
     "execution_count": 29,
     "metadata": {},
     "output_type": "execute_result"
    }
   ],
   "source": [
    "y"
   ]
  },
  {
   "cell_type": "code",
   "execution_count": 30,
   "id": "2d34717a",
   "metadata": {},
   "outputs": [],
   "source": [
    "# Split data into a training set and a test set.\n",
    "\n",
    "X_train, X_test, y_train, y_test = train_test_split(X, y, test_size=0.3, random_state=0)"
   ]
  },
  {
   "cell_type": "markdown",
   "id": "366e4bdc",
   "metadata": {},
   "source": [
    "# Regression Analysis "
   ]
  },
  {
   "cell_type": "code",
   "execution_count": 33,
   "id": "ab32bcbe",
   "metadata": {},
   "outputs": [],
   "source": [
    "# Create a regression object.\n",
    "\n",
    "regression = LinearRegression()  # This is the regression object, which will be fit onto the training set."
   ]
  },
  {
   "cell_type": "code",
   "execution_count": 34,
   "id": "b5cc280c",
   "metadata": {},
   "outputs": [
    {
     "data": {
      "text/html": [
       "<style>#sk-container-id-1 {color: black;}#sk-container-id-1 pre{padding: 0;}#sk-container-id-1 div.sk-toggleable {background-color: white;}#sk-container-id-1 label.sk-toggleable__label {cursor: pointer;display: block;width: 100%;margin-bottom: 0;padding: 0.3em;box-sizing: border-box;text-align: center;}#sk-container-id-1 label.sk-toggleable__label-arrow:before {content: \"▸\";float: left;margin-right: 0.25em;color: #696969;}#sk-container-id-1 label.sk-toggleable__label-arrow:hover:before {color: black;}#sk-container-id-1 div.sk-estimator:hover label.sk-toggleable__label-arrow:before {color: black;}#sk-container-id-1 div.sk-toggleable__content {max-height: 0;max-width: 0;overflow: hidden;text-align: left;background-color: #f0f8ff;}#sk-container-id-1 div.sk-toggleable__content pre {margin: 0.2em;color: black;border-radius: 0.25em;background-color: #f0f8ff;}#sk-container-id-1 input.sk-toggleable__control:checked~div.sk-toggleable__content {max-height: 200px;max-width: 100%;overflow: auto;}#sk-container-id-1 input.sk-toggleable__control:checked~label.sk-toggleable__label-arrow:before {content: \"▾\";}#sk-container-id-1 div.sk-estimator input.sk-toggleable__control:checked~label.sk-toggleable__label {background-color: #d4ebff;}#sk-container-id-1 div.sk-label input.sk-toggleable__control:checked~label.sk-toggleable__label {background-color: #d4ebff;}#sk-container-id-1 input.sk-hidden--visually {border: 0;clip: rect(1px 1px 1px 1px);clip: rect(1px, 1px, 1px, 1px);height: 1px;margin: -1px;overflow: hidden;padding: 0;position: absolute;width: 1px;}#sk-container-id-1 div.sk-estimator {font-family: monospace;background-color: #f0f8ff;border: 1px dotted black;border-radius: 0.25em;box-sizing: border-box;margin-bottom: 0.5em;}#sk-container-id-1 div.sk-estimator:hover {background-color: #d4ebff;}#sk-container-id-1 div.sk-parallel-item::after {content: \"\";width: 100%;border-bottom: 1px solid gray;flex-grow: 1;}#sk-container-id-1 div.sk-label:hover label.sk-toggleable__label {background-color: #d4ebff;}#sk-container-id-1 div.sk-serial::before {content: \"\";position: absolute;border-left: 1px solid gray;box-sizing: border-box;top: 0;bottom: 0;left: 50%;z-index: 0;}#sk-container-id-1 div.sk-serial {display: flex;flex-direction: column;align-items: center;background-color: white;padding-right: 0.2em;padding-left: 0.2em;position: relative;}#sk-container-id-1 div.sk-item {position: relative;z-index: 1;}#sk-container-id-1 div.sk-parallel {display: flex;align-items: stretch;justify-content: center;background-color: white;position: relative;}#sk-container-id-1 div.sk-item::before, #sk-container-id-1 div.sk-parallel-item::before {content: \"\";position: absolute;border-left: 1px solid gray;box-sizing: border-box;top: 0;bottom: 0;left: 50%;z-index: -1;}#sk-container-id-1 div.sk-parallel-item {display: flex;flex-direction: column;z-index: 1;position: relative;background-color: white;}#sk-container-id-1 div.sk-parallel-item:first-child::after {align-self: flex-end;width: 50%;}#sk-container-id-1 div.sk-parallel-item:last-child::after {align-self: flex-start;width: 50%;}#sk-container-id-1 div.sk-parallel-item:only-child::after {width: 0;}#sk-container-id-1 div.sk-dashed-wrapped {border: 1px dashed gray;margin: 0 0.4em 0.5em 0.4em;box-sizing: border-box;padding-bottom: 0.4em;background-color: white;}#sk-container-id-1 div.sk-label label {font-family: monospace;font-weight: bold;display: inline-block;line-height: 1.2em;}#sk-container-id-1 div.sk-label-container {text-align: center;}#sk-container-id-1 div.sk-container {/* jupyter's `normalize.less` sets `[hidden] { display: none; }` but bootstrap.min.css set `[hidden] { display: none !important; }` so we also need the `!important` here to be able to override the default hidden behavior on the sphinx rendered scikit-learn.org. See: https://github.com/scikit-learn/scikit-learn/issues/21755 */display: inline-block !important;position: relative;}#sk-container-id-1 div.sk-text-repr-fallback {display: none;}</style><div id=\"sk-container-id-1\" class=\"sk-top-container\"><div class=\"sk-text-repr-fallback\"><pre>LinearRegression()</pre><b>In a Jupyter environment, please rerun this cell to show the HTML representation or trust the notebook. <br />On GitHub, the HTML representation is unable to render, please try loading this page with nbviewer.org.</b></div><div class=\"sk-container\" hidden><div class=\"sk-item\"><div class=\"sk-estimator sk-toggleable\"><input class=\"sk-toggleable__control sk-hidden--visually\" id=\"sk-estimator-id-1\" type=\"checkbox\" checked><label for=\"sk-estimator-id-1\" class=\"sk-toggleable__label sk-toggleable__label-arrow\">LinearRegression</label><div class=\"sk-toggleable__content\"><pre>LinearRegression()</pre></div></div></div></div></div>"
      ],
      "text/plain": [
       "LinearRegression()"
      ]
     },
     "execution_count": 34,
     "metadata": {},
     "output_type": "execute_result"
    }
   ],
   "source": [
    "# Fit the regression object onto the training set.\n",
    "\n",
    "regression.fit(X_train, y_train)"
   ]
  },
  {
   "cell_type": "code",
   "execution_count": 35,
   "id": "39ec6f1e",
   "metadata": {},
   "outputs": [],
   "source": [
    "# Predict the values of y using X.\n",
    "\n",
    "y_predicted = regression.predict(X_test)"
   ]
  },
  {
   "cell_type": "code",
   "execution_count": 36,
   "id": "2edc5ca6",
   "metadata": {},
   "outputs": [
    {
     "data": {
      "image/png": "[encoded data removed]",
      "text/plain": [
       "<Figure size 640x480 with 1 Axes>"
      ]
     },
     "metadata": {},
     "output_type": "display_data"
    }
   ],
   "source": [
    "# Create a plot that shows the regression line from the model on the test set.\n",
    "\n",
    "plot_test = plt\n",
    "plot_test.scatter(X_test, y_test, color='gray', s = 15)\n",
    "plot_test.plot(X_test, y_predicted, color='red', linewidth =3)\n",
    "plot_test.title('GDP vs Happiness Score (Test set)')\n",
    "plot_test.xlabel('GDP')\n",
    "plot_test.ylabel('Happiness Score')\n",
    "plot_test.show()"
   ]
  },
  {
   "cell_type": "markdown",
   "id": "1a06b843",
   "metadata": {},
   "source": [
    "### Most of the data points are clustered around the regression line, which suggest a strong positive correlation, but very few points actually stays on the regression line"
   ]
  },
  {
   "cell_type": "code",
   "execution_count": 37,
   "id": "13ddf142",
   "metadata": {},
   "outputs": [],
   "source": [
    "# Create objects that contain the model summary statistics.\n",
    "\n",
    "rmse = mean_squared_error(y_test, y_predicted) # This is the mean squared error\n",
    "r2 = r2_score(y_test, y_predicted) # This is the R2 score. "
   ]
  },
  {
   "cell_type": "code",
   "execution_count": 45,
   "id": "63cc8554",
   "metadata": {},
   "outputs": [
    {
     "name": "stdout",
     "output_type": "stream",
     "text": [
      "Slope: [[1.76086535]]\n",
      "Mean squared error:  0.6012168201588419\n",
      "R2 score:  0.5081864239582867\n"
     ]
    }
   ],
   "source": [
    "# Print the model summary statistics. This is where you evaluate the performance of the model.\n",
    "\n",
    "print('Slope:' ,regression.coef_)\n",
    "print('Mean squared error: ', rmse)\n",
    "print('R2 score: ', r2)"
   ]
  },
  {
   "cell_type": "markdown",
   "id": "218687bc",
   "metadata": {},
   "source": [
    "### With a MSE of 0.60, it tells us that our data points are moderately close to the regression line\n",
    "### With a R Squared Value of 0.50, it tells that our model explains 50% of the variance in the data\n",
    "### Considering both the MSE and R Squared Value, it is evident that our model may not be the best in representing this dataset and will not be able to predict the Happiness Score based on the GDP"
   ]
  },
  {
   "cell_type": "code",
   "execution_count": 39,
   "id": "3fcb7e06",
   "metadata": {},
   "outputs": [
    {
     "data": {
      "text/plain": [
       "array([[5.86304424],\n",
       "       [4.29587408],\n",
       "       [5.14637204],\n",
       "       [5.51379421],\n",
       "       [5.51129378],\n",
       "       [5.28701236],\n",
       "       [6.25154928],\n",
       "       [5.01254628],\n",
       "       [3.87802073],\n",
       "       [6.62902066],\n",
       "       [3.77817967],\n",
       "       [6.87378095],\n",
       "       [6.08139154],\n",
       "       [4.20751386],\n",
       "       [4.12875035],\n",
       "       [4.28703454],\n",
       "       [4.3443507 ],\n",
       "       [5.89778611],\n",
       "       [4.94804578],\n",
       "       [5.4228279 ],\n",
       "       [5.21017262],\n",
       "       [3.71667631],\n",
       "       [6.85441143],\n",
       "       [5.01606801],\n",
       "       [5.49678425],\n",
       "       [4.0916137 ],\n",
       "       [5.22559482],\n",
       "       [6.5814773 ],\n",
       "       [5.52298592],\n",
       "       [5.94959077],\n",
       "       [5.84719645],\n",
       "       [4.70398121],\n",
       "       [7.069237  ],\n",
       "       [5.66582732],\n",
       "       [5.49502338],\n",
       "       [6.00039174],\n",
       "       [5.03288   ],\n",
       "       [5.473893  ],\n",
       "       [5.88769635],\n",
       "       [4.56470539],\n",
       "       [5.63073348],\n",
       "       [4.29342694],\n",
       "       [5.84793601],\n",
       "       [6.03821512],\n",
       "       [6.29259789],\n",
       "       [4.98789416],\n",
       "       [5.73094412],\n",
       "       [6.10479344],\n",
       "       [3.95909338],\n",
       "       [4.58641686],\n",
       "       [6.35080394],\n",
       "       [4.81532936],\n",
       "       [6.10148301],\n",
       "       [5.62914718],\n",
       "       [5.56897973],\n",
       "       [4.95619859],\n",
       "       [5.48172885],\n",
       "       [6.19408692],\n",
       "       [6.66247711],\n",
       "       [5.08298089],\n",
       "       [5.80921458],\n",
       "       [4.31348273],\n",
       "       [4.09439587],\n",
       "       [5.25378483],\n",
       "       [5.97573962],\n",
       "       [6.11961297],\n",
       "       [6.42201333],\n",
       "       [5.86832683],\n",
       "       [4.29366577],\n",
       "       [5.91631042],\n",
       "       [6.41947769],\n",
       "       [4.25570874],\n",
       "       [5.88195593],\n",
       "       [6.02680472],\n",
       "       [5.66447145],\n",
       "       [3.95520779],\n",
       "       [4.20774277],\n",
       "       [5.29956733],\n",
       "       [6.69241182],\n",
       "       [4.98234744],\n",
       "       [6.06906548],\n",
       "       [7.46190997],\n",
       "       [6.98999806],\n",
       "       [6.10428279],\n",
       "       [4.23600466],\n",
       "       [5.59839724],\n",
       "       [7.05338921],\n",
       "       [5.88593549],\n",
       "       [5.27417443],\n",
       "       [5.54814128],\n",
       "       [4.33987811],\n",
       "       [5.25378483],\n",
       "       [4.1769587 ],\n",
       "       [7.33512767],\n",
       "       [5.36824108],\n",
       "       [5.56721886],\n",
       "       [4.97908983],\n",
       "       [6.49191969],\n",
       "       [4.76006767],\n",
       "       [5.21809209],\n",
       "       [5.979772  ],\n",
       "       [5.23771301],\n",
       "       [6.44765153],\n",
       "       [4.73609042],\n",
       "       [7.20482363],\n",
       "       [4.96880638],\n",
       "       [5.00022022],\n",
       "       [4.10041803],\n",
       "       [5.22913271],\n",
       "       [5.90002241],\n",
       "       [5.48621905],\n",
       "       [6.34376048],\n",
       "       [5.60771876],\n",
       "       [4.29309355],\n",
       "       [4.22720033],\n",
       "       [5.90882674],\n",
       "       [6.06378289],\n",
       "       [6.06202202],\n",
       "       [6.15758418],\n",
       "       [3.80653374],\n",
       "       [6.11484798],\n",
       "       [6.09332008],\n",
       "       [6.97591114],\n",
       "       [6.66423797],\n",
       "       [5.93638016],\n",
       "       [5.79084876],\n",
       "       [6.87025922],\n",
       "       [6.33377637],\n",
       "       [5.94724882],\n",
       "       [5.02917076],\n",
       "       [5.62099569],\n",
       "       [5.44816232],\n",
       "       [5.16577678],\n",
       "       [5.14989377],\n",
       "       [4.47548235],\n",
       "       [4.61459071],\n",
       "       [5.382328  ],\n",
       "       [6.10087837],\n",
       "       [5.0671331 ],\n",
       "       [5.00198108],\n",
       "       [5.14584378],\n",
       "       [5.1181982 ],\n",
       "       [6.14654356],\n",
       "       [5.13635272],\n",
       "       [5.39701362],\n",
       "       [5.74605172],\n",
       "       [5.87713116],\n",
       "       [5.93756406],\n",
       "       [5.34358896],\n",
       "       [4.14573289],\n",
       "       [4.64804715],\n",
       "       [5.38708552],\n",
       "       [5.2044806 ],\n",
       "       [5.47037127],\n",
       "       [5.46142607],\n",
       "       [5.73626193],\n",
       "       [5.63589261],\n",
       "       [5.29141803],\n",
       "       [5.85600078],\n",
       "       [5.33478463],\n",
       "       [4.97908983],\n",
       "       [5.78831258],\n",
       "       [5.12450209],\n",
       "       [4.06794834],\n",
       "       [6.17647827],\n",
       "       [5.77147924],\n",
       "       [3.6443539 ],\n",
       "       [5.89473981],\n",
       "       [4.81004676],\n",
       "       [6.09989824],\n",
       "       [5.73450107],\n",
       "       [7.0639544 ],\n",
       "       [7.02521537],\n",
       "       [5.14704751],\n",
       "       [5.37880627],\n",
       "       [4.18284183],\n",
       "       [5.5091103 ],\n",
       "       [5.53726219],\n",
       "       [4.54439535],\n",
       "       [4.2865591 ],\n",
       "       [5.93523972],\n",
       "       [5.71513155],\n",
       "       [3.6443539 ],\n",
       "       [5.99260871],\n",
       "       [6.44589067],\n",
       "       [5.97573962],\n",
       "       [5.87184857],\n",
       "       [5.97263209],\n",
       "       [4.99669849],\n",
       "       [5.6411752 ],\n",
       "       [4.69282596],\n",
       "       [6.34728221],\n",
       "       [6.12893491],\n",
       "       [4.29587408],\n",
       "       [4.64628628],\n",
       "       [5.11467647],\n",
       "       [5.38854986],\n",
       "       [5.62109119],\n",
       "       [5.13756772],\n",
       "       [5.55056107],\n",
       "       [6.20113038],\n",
       "       [4.63219936],\n",
       "       [5.26172633],\n",
       "       [5.31717598],\n",
       "       [4.91217695],\n",
       "       [5.77822335],\n",
       "       [5.51259682],\n",
       "       [4.76602513],\n",
       "       [4.01593171],\n",
       "       [6.91428085],\n",
       "       [5.45804521],\n",
       "       [5.2097632 ],\n",
       "       [4.50541706],\n",
       "       [5.75424079],\n",
       "       [5.80845741],\n",
       "       [4.55824302],\n",
       "       [4.85759013],\n",
       "       [5.72493957],\n",
       "       [4.76602513],\n",
       "       [3.67129514],\n",
       "       [4.28680562],\n",
       "       [4.68898727],\n",
       "       [5.84575254],\n",
       "       [5.00902455],\n",
       "       [7.0234545 ],\n",
       "       [6.44236894],\n",
       "       [4.93150481],\n",
       "       [5.41801335],\n",
       "       [6.6209559 ],\n",
       "       [5.92643539],\n",
       "       [5.59363184],\n",
       "       [6.16767394],\n",
       "       [6.96886768],\n",
       "       [5.21971552],\n",
       "       [3.95092585],\n",
       "       [6.10604366],\n",
       "       [5.42256403],\n",
       "       [5.14637204],\n",
       "       [5.6006753 ],\n",
       "       [6.00919606],\n",
       "       [5.58607858],\n",
       "       [3.6443539 ],\n",
       "       [4.32580879],\n",
       "       [6.18628968],\n",
       "       [5.49944315],\n",
       "       [5.76795751],\n",
       "       [5.73360303],\n",
       "       [4.07497917],\n",
       "       [5.06883102],\n",
       "       [5.87360943],\n",
       "       [6.85969402],\n",
       "       [6.26438663],\n",
       "       [5.61723029],\n",
       "       [4.81924697],\n",
       "       [4.26065677],\n",
       "       [6.51976329],\n",
       "       [4.78187292],\n",
       "       [4.03905187],\n",
       "       [5.90139253],\n",
       "       [5.03934884],\n",
       "       [7.00232412],\n",
       "       [6.37721692],\n",
       "       [6.15886962],\n",
       "       [6.28917365],\n",
       "       [5.01078541],\n",
       "       [6.9318895 ],\n",
       "       [5.72745761],\n",
       "       [5.97397876],\n",
       "       [4.69421717],\n",
       "       [5.66758818],\n",
       "       [5.89134134],\n",
       "       [6.22754336],\n",
       "       [5.56721886],\n",
       "       [7.160802  ],\n",
       "       [4.44543976],\n",
       "       [5.08826349],\n",
       "       [7.03578056],\n",
       "       [6.60965114],\n",
       "       [5.99392677],\n",
       "       [5.88604297],\n",
       "       [6.18287715],\n",
       "       [5.68089603],\n",
       "       [5.4686104 ],\n",
       "       [4.73045472],\n",
       "       [5.68519684],\n",
       "       [6.1395001 ],\n",
       "       [6.00836846],\n",
       "       [5.45417131],\n",
       "       [5.60243617],\n",
       "       [4.86111186],\n",
       "       [5.36824108],\n",
       "       [5.84744297],\n",
       "       [5.74830218],\n",
       "       [6.00567433],\n",
       "       [6.73995518],\n",
       "       [5.37880627],\n",
       "       [5.10153996],\n",
       "       [3.76585361],\n",
       "       [4.43850417],\n",
       "       [6.00391347],\n",
       "       [6.49072791],\n",
       "       [5.70264701],\n",
       "       [6.82095499],\n",
       "       [5.12700252],\n",
       "       [3.80459265],\n",
       "       [4.3380292 ],\n",
       "       [4.91041609],\n",
       "       [5.36824108],\n",
       "       [4.24502029],\n",
       "       [4.59010484],\n",
       "       [5.53682632],\n",
       "       [4.13956206],\n",
       "       [5.24317617],\n",
       "       [5.11981819],\n",
       "       [4.83645974],\n",
       "       [6.41419509],\n",
       "       [4.30616904],\n",
       "       [4.86639445],\n",
       "       [4.63128276],\n",
       "       [5.49794642],\n",
       "       [5.43515396],\n",
       "       [4.70624185],\n",
       "       [5.41861943],\n",
       "       [4.78011205],\n",
       "       [5.80770024],\n",
       "       [6.96006335],\n",
       "       [5.34534983],\n",
       "       [5.5189323 ],\n",
       "       [5.59011011],\n",
       "       [3.6443539 ],\n",
       "       [6.87202008],\n",
       "       [3.6443539 ],\n",
       "       [5.07132396],\n",
       "       [5.93523972],\n",
       "       [5.01281592],\n",
       "       [5.05304618],\n",
       "       [4.84526407],\n",
       "       [4.0569346 ],\n",
       "       [6.92132431],\n",
       "       [6.36710829],\n",
       "       [5.65702299],\n",
       "       [5.54784934],\n",
       "       [6.66247711],\n",
       "       [6.39482557],\n",
       "       [6.21697817],\n",
       "       [6.2257825 ],\n",
       "       [4.32228706],\n",
       "       [6.00205812],\n",
       "       [5.20345294],\n",
       "       [6.02328298],\n",
       "       [6.5761947 ],\n",
       "       [5.24674137],\n",
       "       [4.42265639],\n",
       "       [3.92961409],\n",
       "       [5.0266332 ],\n",
       "       [5.67569128],\n",
       "       [4.7572208 ],\n",
       "       [6.43884721],\n",
       "       [6.60260768],\n",
       "       [7.13438902],\n",
       "       [5.11509907],\n",
       "       [5.37218541],\n",
       "       [5.33478463],\n",
       "       [5.58306665],\n",
       "       [6.13597837],\n",
       "       [6.0479351 ],\n",
       "       [5.92291366],\n",
       "       [5.02694874],\n",
       "       [6.87554181],\n",
       "       [5.94724882],\n",
       "       [6.26721566],\n",
       "       [5.6181783 ],\n",
       "       [4.80124243],\n",
       "       [5.6250809 ],\n",
       "       [5.69400117],\n",
       "       [5.34259289],\n",
       "       [6.00919606],\n",
       "       [4.12683101],\n",
       "       [4.33110501],\n",
       "       [6.04029294],\n",
       "       [6.9371721 ],\n",
       "       [4.27298283],\n",
       "       [5.36010588],\n",
       "       [5.04600272],\n",
       "       [4.17385641],\n",
       "       [6.93852037],\n",
       "       [4.60338269],\n",
       "       [5.7885313 ],\n",
       "       [5.22737185],\n",
       "       [6.17823914],\n",
       "       [5.43920395],\n",
       "       [5.70320899],\n",
       "       [4.3174799 ],\n",
       "       [5.13932858],\n",
       "       [4.53175616],\n",
       "       [5.50030598],\n",
       "       [4.60504682],\n",
       "       [5.23018349],\n",
       "       [4.856111  ],\n",
       "       [5.40666386],\n",
       "       [6.06554375],\n",
       "       [4.72203871],\n",
       "       [5.30635723],\n",
       "       [5.24636189],\n",
       "       [5.25730656],\n",
       "       [5.6541976 ],\n",
       "       [4.56875538],\n",
       "       [6.81038979],\n",
       "       [6.70121614],\n",
       "       [5.41930617],\n",
       "       [4.22586207]])"
      ]
     },
     "execution_count": 39,
     "metadata": {},
     "output_type": "execute_result"
    }
   ],
   "source": [
    "y_predicted"
   ]
  },
  {
   "cell_type": "code",
   "execution_count": 46,
   "id": "085dfde4",
   "metadata": {
    "scrolled": true
   },
   "outputs": [
    {
     "data": {
      "text/html": [
       "<div>\n",
       "<style scoped>\n",
       "    .dataframe tbody tr th:only-of-type {\n",
       "        vertical-align: middle;\n",
       "    }\n",
       "\n",
       "    .dataframe tbody tr th {\n",
       "        vertical-align: top;\n",
       "    }\n",
       "\n",
       "    .dataframe thead th {\n",
       "        text-align: right;\n",
       "    }\n",
       "</style>\n",
       "<table border=\"1\" class=\"dataframe\">\n",
       "  <thead>\n",
       "    <tr style=\"text-align: right;\">\n",
       "      <th></th>\n",
       "      <th>Actual</th>\n",
       "      <th>Predicted</th>\n",
       "      <th>Percentage Difference</th>\n",
       "    </tr>\n",
       "  </thead>\n",
       "  <tbody>\n",
       "    <tr>\n",
       "      <th>0</th>\n",
       "      <td>4.9480</td>\n",
       "      <td>5.863044</td>\n",
       "      <td>18.493214</td>\n",
       "    </tr>\n",
       "    <tr>\n",
       "      <th>1</th>\n",
       "      <td>2.5230</td>\n",
       "      <td>4.295874</td>\n",
       "      <td>70.268493</td>\n",
       "    </tr>\n",
       "    <tr>\n",
       "      <th>2</th>\n",
       "      <td>4.3400</td>\n",
       "      <td>5.146372</td>\n",
       "      <td>18.580001</td>\n",
       "    </tr>\n",
       "    <tr>\n",
       "      <th>3</th>\n",
       "      <td>6.4850</td>\n",
       "      <td>5.513794</td>\n",
       "      <td>14.976188</td>\n",
       "    </tr>\n",
       "    <tr>\n",
       "      <th>4</th>\n",
       "      <td>3.8960</td>\n",
       "      <td>5.511294</td>\n",
       "      <td>41.460313</td>\n",
       "    </tr>\n",
       "    <tr>\n",
       "      <th>5</th>\n",
       "      <td>4.5740</td>\n",
       "      <td>5.287012</td>\n",
       "      <td>15.588377</td>\n",
       "    </tr>\n",
       "    <tr>\n",
       "      <th>6</th>\n",
       "      <td>7.5040</td>\n",
       "      <td>6.251549</td>\n",
       "      <td>16.690443</td>\n",
       "    </tr>\n",
       "    <tr>\n",
       "      <th>7</th>\n",
       "      <td>4.6030</td>\n",
       "      <td>5.012546</td>\n",
       "      <td>8.897377</td>\n",
       "    </tr>\n",
       "    <tr>\n",
       "      <th>8</th>\n",
       "      <td>3.8560</td>\n",
       "      <td>3.878021</td>\n",
       "      <td>0.571077</td>\n",
       "    </tr>\n",
       "    <tr>\n",
       "      <th>9</th>\n",
       "      <td>6.3770</td>\n",
       "      <td>6.629021</td>\n",
       "      <td>3.952025</td>\n",
       "    </tr>\n",
       "    <tr>\n",
       "      <th>10</th>\n",
       "      <td>3.4950</td>\n",
       "      <td>3.778180</td>\n",
       "      <td>8.102423</td>\n",
       "    </tr>\n",
       "    <tr>\n",
       "      <th>11</th>\n",
       "      <td>6.4670</td>\n",
       "      <td>6.873781</td>\n",
       "      <td>6.290103</td>\n",
       "    </tr>\n",
       "    <tr>\n",
       "      <th>12</th>\n",
       "      <td>5.2770</td>\n",
       "      <td>6.081392</td>\n",
       "      <td>15.243349</td>\n",
       "    </tr>\n",
       "    <tr>\n",
       "      <th>13</th>\n",
       "      <td>3.5750</td>\n",
       "      <td>4.207514</td>\n",
       "      <td>17.692695</td>\n",
       "    </tr>\n",
       "    <tr>\n",
       "      <th>14</th>\n",
       "      <td>3.9560</td>\n",
       "      <td>4.128750</td>\n",
       "      <td>4.366793</td>\n",
       "    </tr>\n",
       "    <tr>\n",
       "      <th>15</th>\n",
       "      <td>3.9040</td>\n",
       "      <td>4.287035</td>\n",
       "      <td>9.811335</td>\n",
       "    </tr>\n",
       "    <tr>\n",
       "      <th>16</th>\n",
       "      <td>4.6940</td>\n",
       "      <td>4.344351</td>\n",
       "      <td>7.448856</td>\n",
       "    </tr>\n",
       "    <tr>\n",
       "      <th>17</th>\n",
       "      <td>6.0780</td>\n",
       "      <td>5.897786</td>\n",
       "      <td>2.965020</td>\n",
       "    </tr>\n",
       "    <tr>\n",
       "      <th>18</th>\n",
       "      <td>5.0610</td>\n",
       "      <td>4.948046</td>\n",
       "      <td>2.231856</td>\n",
       "    </tr>\n",
       "    <tr>\n",
       "      <th>19</th>\n",
       "      <td>7.0720</td>\n",
       "      <td>5.422828</td>\n",
       "      <td>23.319741</td>\n",
       "    </tr>\n",
       "    <tr>\n",
       "      <th>20</th>\n",
       "      <td>4.7715</td>\n",
       "      <td>5.210173</td>\n",
       "      <td>9.193597</td>\n",
       "    </tr>\n",
       "    <tr>\n",
       "      <th>21</th>\n",
       "      <td>3.4759</td>\n",
       "      <td>3.716676</td>\n",
       "      <td>6.927023</td>\n",
       "    </tr>\n",
       "    <tr>\n",
       "      <th>22</th>\n",
       "      <td>6.8450</td>\n",
       "      <td>6.854411</td>\n",
       "      <td>0.137493</td>\n",
       "    </tr>\n",
       "    <tr>\n",
       "      <th>23</th>\n",
       "      <td>5.2540</td>\n",
       "      <td>5.016068</td>\n",
       "      <td>4.528588</td>\n",
       "    </tr>\n",
       "    <tr>\n",
       "      <th>24</th>\n",
       "      <td>5.2470</td>\n",
       "      <td>5.496784</td>\n",
       "      <td>4.760515</td>\n",
       "    </tr>\n",
       "    <tr>\n",
       "      <th>25</th>\n",
       "      <td>4.1070</td>\n",
       "      <td>4.091614</td>\n",
       "      <td>0.374636</td>\n",
       "    </tr>\n",
       "    <tr>\n",
       "      <th>26</th>\n",
       "      <td>5.6921</td>\n",
       "      <td>5.225595</td>\n",
       "      <td>8.195661</td>\n",
       "    </tr>\n",
       "    <tr>\n",
       "      <th>27</th>\n",
       "      <td>6.2340</td>\n",
       "      <td>6.581477</td>\n",
       "      <td>5.573906</td>\n",
       "    </tr>\n",
       "    <tr>\n",
       "      <th>28</th>\n",
       "      <td>5.6150</td>\n",
       "      <td>5.522986</td>\n",
       "      <td>1.638719</td>\n",
       "    </tr>\n",
       "    <tr>\n",
       "      <th>29</th>\n",
       "      <td>6.5960</td>\n",
       "      <td>5.949591</td>\n",
       "      <td>9.800019</td>\n",
       "    </tr>\n",
       "  </tbody>\n",
       "</table>\n",
       "</div>"
      ],
      "text/plain": [
       "    Actual  Predicted  Percentage Difference\n",
       "0   4.9480   5.863044              18.493214\n",
       "1   2.5230   4.295874              70.268493\n",
       "2   4.3400   5.146372              18.580001\n",
       "3   6.4850   5.513794              14.976188\n",
       "4   3.8960   5.511294              41.460313\n",
       "5   4.5740   5.287012              15.588377\n",
       "6   7.5040   6.251549              16.690443\n",
       "7   4.6030   5.012546               8.897377\n",
       "8   3.8560   3.878021               0.571077\n",
       "9   6.3770   6.629021               3.952025\n",
       "10  3.4950   3.778180               8.102423\n",
       "11  6.4670   6.873781               6.290103\n",
       "12  5.2770   6.081392              15.243349\n",
       "13  3.5750   4.207514              17.692695\n",
       "14  3.9560   4.128750               4.366793\n",
       "15  3.9040   4.287035               9.811335\n",
       "16  4.6940   4.344351               7.448856\n",
       "17  6.0780   5.897786               2.965020\n",
       "18  5.0610   4.948046               2.231856\n",
       "19  7.0720   5.422828              23.319741\n",
       "20  4.7715   5.210173               9.193597\n",
       "21  3.4759   3.716676               6.927023\n",
       "22  6.8450   6.854411               0.137493\n",
       "23  5.2540   5.016068               4.528588\n",
       "24  5.2470   5.496784               4.760515\n",
       "25  4.1070   4.091614               0.374636\n",
       "26  5.6921   5.225595               8.195661\n",
       "27  6.2340   6.581477               5.573906\n",
       "28  5.6150   5.522986               1.638719\n",
       "29  6.5960   5.949591               9.800019"
      ]
     },
     "execution_count": 46,
     "metadata": {},
     "output_type": "execute_result"
    }
   ],
   "source": [
    "# Create a dataframe comparing the actual and predicted values of y.\n",
    "\n",
    "data = pd.DataFrame({'Actual': y_test.flatten(), 'Predicted': y_predicted.flatten()})\n",
    "# Adding a new column with Percentage Difference between Actual and Predicted\n",
    "data['Percentage Difference'] = abs((data['Actual'] - data['Predicted']) / data['Actual']) * 100\n",
    "\n",
    "data.head(30)"
   ]
  },
  {
   "cell_type": "code",
   "execution_count": 47,
   "id": "b8a72b02",
   "metadata": {
    "scrolled": true
   },
   "outputs": [
    {
     "name": "stdout",
     "output_type": "stream",
     "text": [
      "percentage_difference_mean = 12.168087417150424 \n",
      "percentage_difference_max = 157.13351536530382 \n",
      "percentage_difference_median = 9.691472457599886\n"
     ]
    }
   ],
   "source": [
    "percentage_difference_mean = data['Percentage Difference'].mean()\n",
    "percentage_difference_max = data['Percentage Difference'].max()\n",
    "percentage_difference_median = data['Percentage Difference'].median()\n",
    "\n",
    "print('percentage_difference_mean =', percentage_difference_mean,'\\n'\n",
    "      'percentage_difference_max =', percentage_difference_max,'\\n'\n",
    "      'percentage_difference_median =', percentage_difference_median)"
   ]
  },
  {
   "cell_type": "markdown",
   "id": "492a143a",
   "metadata": {},
   "source": [
    "### As we can see, the max difference is around 157% which might be because of the outliers. But the mean difference of 12% is also a lot and further tells us that this regression model does not represent the dataset and will not be able to predict the Happiness Score solely based on the GDP of a country.\n",
    "### Other factors might play a crucial rule in determining the Happiness Score such as Region, Social Support and High Life Expectancy"
   ]
  },
  {
   "cell_type": "markdown",
   "id": "a38c8244",
   "metadata": {},
   "source": [
    "## Compare how the regression fits the training set "
   ]
  },
  {
   "cell_type": "code",
   "execution_count": 41,
   "id": "c8bfc615",
   "metadata": {},
   "outputs": [],
   "source": [
    "# Predict.\n",
    "\n",
    "y_predicted_train = regression.predict(X_train) # This is predicting X_train!"
   ]
  },
  {
   "cell_type": "code",
   "execution_count": 42,
   "id": "70559d45",
   "metadata": {},
   "outputs": [],
   "source": [
    "rmse = mean_squared_error(y_train, y_predicted_train)\n",
    "r2 = r2_score(y_train, y_predicted_train)"
   ]
  },
  {
   "cell_type": "code",
   "execution_count": 43,
   "id": "ac017d2e",
   "metadata": {},
   "outputs": [
    {
     "name": "stdout",
     "output_type": "stream",
     "text": [
      "Slope: [[1.76086535]]\n",
      "Mean squared error:  0.6012168201588419\n",
      "R2 score:  0.5081864239582867\n"
     ]
    }
   ],
   "source": [
    "print('Slope:' ,regression.coef_)\n",
    "print('Mean squared error: ', rmse)\n",
    "print('R2 score: ', r2)"
   ]
  },
  {
   "cell_type": "code",
   "execution_count": 49,
   "id": "27cb70e4",
   "metadata": {},
   "outputs": [
    {
     "data": {
      "image/png": "[encoded data removed]",
      "text/plain": [
       "<Figure size 640x480 with 1 Axes>"
      ]
     },
     "metadata": {},
     "output_type": "display_data"
    }
   ],
   "source": [
    "# Visualizing the training set results.\n",
    "\n",
    "plot_test = plt\n",
    "plot_test.scatter(X_train, y_train, color='green', s = 15)\n",
    "plot_test.plot(X_train, y_predicted_train, color='red', linewidth =3)\n",
    "plot_test.title('GDP vs Happiness Score (Training set)')\n",
    "plot_test.xlabel('GDP')\n",
    "plot_test.ylabel('Happiness Score')\n",
    "plot_test.show()"
   ]
  },
  {
   "cell_type": "markdown",
   "id": "8f28e33c",
   "metadata": {},
   "source": [
    "### Even with the training set, the MSE and the R Squared Value remains almost same and does not change our decision on the reliability of the model. "
   ]
  },
  {
   "cell_type": "code",
   "execution_count": null,
   "id": "577eafa8",
   "metadata": {},
   "outputs": [],
   "source": []
  }
 ],
 "metadata": {
  "kernelspec": {
   "display_name": "Python 3 (ipykernel)",
   "language": "python",
   "name": "python3"
  },
  "language_info": {
   "codemirror_mode": {
    "name": "ipython",
    "version": 3
   },
   "file_extension": ".py",
   "mimetype": "text/x-python",
   "name": "python",
   "nbconvert_exporter": "python",
   "pygments_lexer": "ipython3",
   "version": "3.11.5"
  }
 },
 "nbformat": 4,
 "nbformat_minor": 5
}
